{
 "cells": [
  {
   "cell_type": "code",
   "execution_count": 1,
   "id": "28bbc0bf",
   "metadata": {},
   "outputs": [],
   "source": [
    "import pandas_market_calendars as mcal\n",
    "import pandas as pd\n",
    "import numpy as np"
   ]
  },
  {
   "cell_type": "markdown",
   "id": "22b4d9bc",
   "metadata": {},
   "source": [
    "## Remove non trading days"
   ]
  },
  {
   "cell_type": "code",
   "execution_count": 2,
   "id": "5390e552",
   "metadata": {},
   "outputs": [],
   "source": [
    "six = mcal.get_calendar('SIX')\n"
   ]
  },
  {
   "cell_type": "code",
   "execution_count": 3,
   "id": "99dd18c0",
   "metadata": {},
   "outputs": [
    {
     "data": {
      "text/plain": [
       "'2022-01-03'"
      ]
     },
     "execution_count": 3,
     "metadata": {},
     "output_type": "execute_result"
    }
   ],
   "source": [
    "df = pd.read_excel('data.xlsx')\n",
    "\n",
    "str(df['DATE'].min().date())"
   ]
  },
  {
   "cell_type": "code",
   "execution_count": 4,
   "id": "b0e22cf5",
   "metadata": {},
   "outputs": [],
   "source": [
    "start = df['DATE'].min().date()\n",
    "end = df['DATE'].max().date()\n",
    "schedule = six.schedule(start_date=start, end_date=end)\n"
   ]
  },
  {
   "cell_type": "code",
   "execution_count": 5,
   "id": "73dadb9a",
   "metadata": {},
   "outputs": [
    {
     "data": {
      "text/html": [
       "<div>\n",
       "<style scoped>\n",
       "    .dataframe tbody tr th:only-of-type {\n",
       "        vertical-align: middle;\n",
       "    }\n",
       "\n",
       "    .dataframe tbody tr th {\n",
       "        vertical-align: top;\n",
       "    }\n",
       "\n",
       "    .dataframe thead th {\n",
       "        text-align: right;\n",
       "    }\n",
       "</style>\n",
       "<table border=\"1\" class=\"dataframe\">\n",
       "  <thead>\n",
       "    <tr style=\"text-align: right;\">\n",
       "      <th></th>\n",
       "      <th>DATE</th>\n",
       "      <th>CREDIT SUISSE GROUP - TOT RETURN IND</th>\n",
       "    </tr>\n",
       "  </thead>\n",
       "  <tbody>\n",
       "    <tr>\n",
       "      <th>74</th>\n",
       "      <td>2022-04-15</td>\n",
       "      <td>333.85</td>\n",
       "    </tr>\n",
       "    <tr>\n",
       "      <th>75</th>\n",
       "      <td>2022-04-18</td>\n",
       "      <td>333.85</td>\n",
       "    </tr>\n",
       "    <tr>\n",
       "      <th>103</th>\n",
       "      <td>2022-05-26</td>\n",
       "      <td>318.95</td>\n",
       "    </tr>\n",
       "    <tr>\n",
       "      <th>110</th>\n",
       "      <td>2022-06-06</td>\n",
       "      <td>311.77</td>\n",
       "    </tr>\n",
       "    <tr>\n",
       "      <th>150</th>\n",
       "      <td>2022-08-01</td>\n",
       "      <td>261.77</td>\n",
       "    </tr>\n",
       "    <tr>\n",
       "      <th>255</th>\n",
       "      <td>2022-12-26</td>\n",
       "      <td>142.07</td>\n",
       "    </tr>\n",
       "    <tr>\n",
       "      <th>259</th>\n",
       "      <td>2022-12-30</td>\n",
       "      <td>137.98</td>\n",
       "    </tr>\n",
       "    <tr>\n",
       "      <th>260</th>\n",
       "      <td>2023-01-02</td>\n",
       "      <td>137.98</td>\n",
       "    </tr>\n",
       "  </tbody>\n",
       "</table>\n",
       "</div>"
      ],
      "text/plain": [
       "          DATE  CREDIT SUISSE GROUP - TOT RETURN IND\n",
       "74  2022-04-15                                333.85\n",
       "75  2022-04-18                                333.85\n",
       "103 2022-05-26                                318.95\n",
       "110 2022-06-06                                311.77\n",
       "150 2022-08-01                                261.77\n",
       "255 2022-12-26                                142.07\n",
       "259 2022-12-30                                137.98\n",
       "260 2023-01-02                                137.98"
      ]
     },
     "execution_count": 5,
     "metadata": {},
     "output_type": "execute_result"
    }
   ],
   "source": [
    "df[~df['DATE'].isin(schedule.index)]"
   ]
  },
  {
   "cell_type": "code",
   "execution_count": 6,
   "id": "be18f6e5",
   "metadata": {
    "scrolled": true
   },
   "outputs": [],
   "source": [
    "upd_df = df[df['DATE'].isin(schedule.index)]"
   ]
  },
  {
   "cell_type": "code",
   "execution_count": 7,
   "id": "b88d329b",
   "metadata": {},
   "outputs": [],
   "source": [
    "def print_days_without_price_change(df):\n",
    "    prev_row = None\n",
    "    j = 0\n",
    "\n",
    "    for i, row in df.iterrows():\n",
    "        if j !=  0:\n",
    "            if row['CREDIT SUISSE GROUP - TOT RETURN IND'] == prev_row['CREDIT SUISSE GROUP - TOT RETURN IND']:\n",
    "                print(row['DATE'])\n",
    "\n",
    "        j = 1\n",
    "        prev_row = row"
   ]
  },
  {
   "cell_type": "code",
   "execution_count": 8,
   "id": "af88831d",
   "metadata": {},
   "outputs": [],
   "source": [
    "print_days_without_price_change(upd_df)"
   ]
  },
  {
   "cell_type": "code",
   "execution_count": 9,
   "id": "0247206a",
   "metadata": {},
   "outputs": [
    {
     "data": {
      "text/html": [
       "<div>\n",
       "<style scoped>\n",
       "    .dataframe tbody tr th:only-of-type {\n",
       "        vertical-align: middle;\n",
       "    }\n",
       "\n",
       "    .dataframe tbody tr th {\n",
       "        vertical-align: top;\n",
       "    }\n",
       "\n",
       "    .dataframe thead th {\n",
       "        text-align: right;\n",
       "    }\n",
       "</style>\n",
       "<table border=\"1\" class=\"dataframe\">\n",
       "  <thead>\n",
       "    <tr style=\"text-align: right;\">\n",
       "      <th></th>\n",
       "      <th>DATE</th>\n",
       "      <th>CREDIT SUISSE GROUP - TOT RETURN IND</th>\n",
       "    </tr>\n",
       "  </thead>\n",
       "  <tbody>\n",
       "    <tr>\n",
       "      <th>0</th>\n",
       "      <td>2022-01-03</td>\n",
       "      <td>422.59</td>\n",
       "    </tr>\n",
       "    <tr>\n",
       "      <th>1</th>\n",
       "      <td>2022-01-04</td>\n",
       "      <td>427.71</td>\n",
       "    </tr>\n",
       "    <tr>\n",
       "      <th>2</th>\n",
       "      <td>2022-01-05</td>\n",
       "      <td>430.04</td>\n",
       "    </tr>\n",
       "    <tr>\n",
       "      <th>3</th>\n",
       "      <td>2022-01-06</td>\n",
       "      <td>431.43</td>\n",
       "    </tr>\n",
       "    <tr>\n",
       "      <th>4</th>\n",
       "      <td>2022-01-07</td>\n",
       "      <td>431.80</td>\n",
       "    </tr>\n",
       "    <tr>\n",
       "      <th>...</th>\n",
       "      <td>...</td>\n",
       "      <td>...</td>\n",
       "    </tr>\n",
       "    <tr>\n",
       "      <th>312</th>\n",
       "      <td>2023-03-15</td>\n",
       "      <td>84.71</td>\n",
       "    </tr>\n",
       "    <tr>\n",
       "      <th>313</th>\n",
       "      <td>2023-03-16</td>\n",
       "      <td>100.94</td>\n",
       "    </tr>\n",
       "    <tr>\n",
       "      <th>314</th>\n",
       "      <td>2023-03-17</td>\n",
       "      <td>92.85</td>\n",
       "    </tr>\n",
       "    <tr>\n",
       "      <th>315</th>\n",
       "      <td>2023-03-20</td>\n",
       "      <td>41.09</td>\n",
       "    </tr>\n",
       "    <tr>\n",
       "      <th>316</th>\n",
       "      <td>2023-03-21</td>\n",
       "      <td>44.10</td>\n",
       "    </tr>\n",
       "  </tbody>\n",
       "</table>\n",
       "<p>309 rows × 2 columns</p>\n",
       "</div>"
      ],
      "text/plain": [
       "          DATE  CREDIT SUISSE GROUP - TOT RETURN IND\n",
       "0   2022-01-03                                422.59\n",
       "1   2022-01-04                                427.71\n",
       "2   2022-01-05                                430.04\n",
       "3   2022-01-06                                431.43\n",
       "4   2022-01-07                                431.80\n",
       "..         ...                                   ...\n",
       "312 2023-03-15                                 84.71\n",
       "313 2023-03-16                                100.94\n",
       "314 2023-03-17                                 92.85\n",
       "315 2023-03-20                                 41.09\n",
       "316 2023-03-21                                 44.10\n",
       "\n",
       "[309 rows x 2 columns]"
      ]
     },
     "execution_count": 9,
     "metadata": {},
     "output_type": "execute_result"
    }
   ],
   "source": [
    "upd_df"
   ]
  },
  {
   "cell_type": "code",
   "execution_count": 10,
   "id": "d2a16a1e",
   "metadata": {},
   "outputs": [],
   "source": [
    "TOTAL = 1"
   ]
  },
  {
   "cell_type": "code",
   "execution_count": 11,
   "id": "2be8d58b",
   "metadata": {},
   "outputs": [],
   "source": [
    "def count_cumulitive_likelihood(likelihood):\n",
    "    cum_lklhd = [likelihood[0]]\n",
    "    for i in range(1, len(likelihood)):\n",
    "        cum_lklhd.append(cum_lklhd[i-1] + likelihood[i])\n",
    "        \n",
    "    return cum_lklhd\n",
    "\n",
    "\n",
    "def get_ranked_pnl(likelihood, pnl):\n",
    "    ranked_pnl = pd.DataFrame({\n",
    "    'PnL': pnl,\n",
    "    'Weight' : likelihood\n",
    "    })\n",
    "    ranked_pnl = ranked_pnl.sort_values(by=['PnL'])\n",
    "    ranked_pnl['Cumulative_likelihood'] = count_cumulitive_likelihood(ranked_pnl['Weight'].array)\n",
    "    return ranked_pnl\n",
    "\n",
    "\n",
    "def calculate_abs_var(ranked_pnl, c=0.01):\n",
    "    for _, row in ranked_pnl.iterrows():\n",
    "        if c < row['Cumulative_likelihood']:\n",
    "            return -row['PnL']\n",
    "    \n",
    "    \n",
    "def calculate_relative_var(ranked_pnl, c=.01):\n",
    "    abs_VaR = calculate_abs_var(ranked_pnl)\n",
    "    return_VaR = -abs_VaR / TOTAL\n",
    "    return_expected = ranked_pnl['PnL'].mean() / TOTAL\n",
    "    return TOTAL * (return_expected - return_VaR)"
   ]
  },
  {
   "cell_type": "markdown",
   "id": "cba10438",
   "metadata": {},
   "source": [
    "## Use dates before 2023"
   ]
  },
  {
   "cell_type": "code",
   "execution_count": null,
   "id": "66c82e00",
   "metadata": {},
   "outputs": [],
   "source": [
    "prices2022= upd_df[upd_df['DATE'] < '2023-01-01'].drop('DATE', axis=1)"
   ]
  },
  {
   "cell_type": "code",
   "execution_count": null,
   "id": "c65f8fb0",
   "metadata": {},
   "outputs": [],
   "source": [
    "prices2022.columns = ['CS']"
   ]
  },
  {
   "cell_type": "code",
   "execution_count": null,
   "id": "8ebd28c2",
   "metadata": {},
   "outputs": [],
   "source": [
    "prices2022"
   ]
  },
  {
   "cell_type": "code",
   "execution_count": null,
   "id": "72538b21",
   "metadata": {},
   "outputs": [],
   "source": [
    "daily_returns2022 = prices2022.pct_change(1).tail(-1)\n",
    "N2022 = len(daily_returns2022)"
   ]
  },
  {
   "cell_type": "code",
   "execution_count": null,
   "id": "f9eb894f",
   "metadata": {},
   "outputs": [],
   "source": [
    "investment_values2022 = 1 + daily_returns2022\n",
    "investment_values2022.columns = ['Portfolio']\n"
   ]
  },
  {
   "cell_type": "code",
   "execution_count": null,
   "id": "59b7bd79",
   "metadata": {},
   "outputs": [],
   "source": [
    "investment_values2022"
   ]
  },
  {
   "cell_type": "code",
   "execution_count": null,
   "id": "c1aad5b8",
   "metadata": {},
   "outputs": [],
   "source": [
    "pnl2022 = investment_values2022['Portfolio'] - TOTAL"
   ]
  },
  {
   "cell_type": "code",
   "execution_count": null,
   "id": "86ade483",
   "metadata": {},
   "outputs": [],
   "source": [
    "from matplotlib import pyplot as plt\n",
    "\n",
    "\n",
    "plt.rcParams[\"figure.figsize\"] = (20,10)\n",
    "\n",
    "\n",
    "plt.plot(pnl2022.index.to_numpy(), pnl2022)\n",
    "plt.plot([213 for _ in range(0, N2022)], np.linspace(-.2, .2, N2022))\n",
    "plt.ylabel('P&L', fontsize=20)\n",
    "plt.title('P&L over time', fontsize=20)\n",
    "plt.show()"
   ]
  },
  {
   "cell_type": "markdown",
   "id": "519afc6f",
   "metadata": {},
   "source": [
    "### Normal"
   ]
  },
  {
   "cell_type": "code",
   "execution_count": null,
   "id": "10dd73ee",
   "metadata": {},
   "outputs": [],
   "source": [
    "import pandas as pd\n",
    "import numpy as np\n",
    "import matplotlib.pyplot as plt\n",
    "from scipy.stats import norm\n",
    "\n",
    "# generate some sample data\n",
    "np.random.seed(123)\n",
    "\n",
    "# calculate mean and standard deviation of the data\n",
    "mu, sigma = daily_returns2022.mean()[0], daily_returns2022.std()[0]\n",
    "\n",
    "# generate normal distribution with same mean and standard deviation\n",
    "x = np.linspace(mu - 3*sigma, mu + 3*sigma, 100)\n",
    "pdf = norm.pdf(x, mu, sigma)\n",
    "\n",
    "# plot histogram of data and normal distribution\n",
    "fig, ax = plt.subplots()\n",
    "ax.hist(daily_returns2022['CS'], bins=30, density=True)\n",
    "ax.plot(x, pdf, color='red', linewidth=2)\n",
    "ax.set_xlabel('Daily Returns')\n",
    "ax.set_ylabel('Frequency')\n",
    "ax.legend(['Normal Distribution', 'Data'])\n",
    "ax.set_title('Distribution of Daily Returns for CS in 2022')\n",
    "\n",
    "plt.show()\n",
    "\n",
    "\n",
    "-TOTAL * (sigma * norm.ppf(0.05) + mu)"
   ]
  },
  {
   "cell_type": "markdown",
   "id": "1e32f69f",
   "metadata": {},
   "source": [
    "### Equal weights 2022"
   ]
  },
  {
   "cell_type": "code",
   "execution_count": null,
   "id": "76918112",
   "metadata": {},
   "outputs": [],
   "source": [
    "likelihood2022 = [1/N2022 for _ in  range(N2022)]\n",
    "default_pnl2022 = get_ranked_pnl(likelihood2022, pnl2022)\n",
    "calculate_abs_var(default_pnl2022), calculate_relative_var(default_pnl2022)"
   ]
  },
  {
   "cell_type": "code",
   "execution_count": null,
   "id": "f1bb02ed",
   "metadata": {},
   "outputs": [],
   "source": [
    "default_pnl2022.round(3) ### extrapolation can be used"
   ]
  },
  {
   "cell_type": "markdown",
   "id": "28e059e2",
   "metadata": {},
   "source": [
    "### Exponential declining weights (2022)"
   ]
  },
  {
   "cell_type": "code",
   "execution_count": null,
   "id": "10a725a4",
   "metadata": {
    "scrolled": true
   },
   "outputs": [],
   "source": [
    "def get_exponential_weight(alpha, i, n):\n",
    "    return alpha**(n - i) * (1 - alpha) / (1 - alpha**n)\n",
    "\n",
    "def get_exponential_weights(alpha, n):\n",
    "    return np.array(\n",
    "        [get_exponential_weight(alpha, i, n) for i in range(1, n+1)]\n",
    "    )\n",
    "\n",
    "alpha = .95\n",
    "likelihood = get_exponential_weights(alpha, N2022)\n",
    "exp_ranked_pnl2022 = get_ranked_pnl(likelihood, pnl2022)\n",
    "\n",
    "exp_ranked_pnl2022.head(10).round(3)"
   ]
  },
  {
   "cell_type": "markdown",
   "id": "030ee0a4",
   "metadata": {},
   "source": [
    "### Volatility adjusted returns"
   ]
  },
  {
   "cell_type": "code",
   "execution_count": 38,
   "id": "468059fb",
   "metadata": {},
   "outputs": [],
   "source": [
    "def forecast_variance(returns, initial_value, alpha, N):\n",
    "    variance_forecast = [initial_value]\n",
    "\n",
    "    for i in range(1, N+1):\n",
    "        forecast = alpha * variance_forecast[i-1]  +  (1 - alpha) * returns.iloc[i-1] **2 \n",
    "        variance_forecast.append(forecast)\n",
    "    \n",
    "    return np.array(variance_forecast)\n",
    "    \n",
    "def forecast_volatility(returns, initial_value, N, alpha=.95):\n",
    "    return forecast_variance(returns, initial_value, alpha, N) ** .5"
   ]
  },
  {
   "cell_type": "code",
   "execution_count": null,
   "id": "dd19f37d",
   "metadata": {},
   "outputs": [],
   "source": [
    "alpha = .95\n",
    "\n",
    "initial_variance = 0.00064\n"
   ]
  },
  {
   "cell_type": "code",
   "execution_count": null,
   "id": "3bdc1096",
   "metadata": {},
   "outputs": [],
   "source": [
    "volatility_forecast2022 = forecast_volatility(daily_returns2022['CS'], initial_variance, N2022, alpha)\n",
    "latest_volatility_forecast2022 = volatility_forecast2022[-1]"
   ]
  },
  {
   "cell_type": "code",
   "execution_count": null,
   "id": "eb124d04",
   "metadata": {},
   "outputs": [],
   "source": [
    "adj_coeff_2022 = latest_volatility_forecast2022 / volatility_forecast2022[:N2022]\n",
    "vol_adj_return2022 = daily_returns2022['CS'].to_numpy() * adj_coeff_2022\n",
    "volatility_adjusted_portfolio2022 = TOTAL * (1 + vol_adj_return2022)\n",
    "#vol_adjusted_pnl = vol_adjusted_portfolio - TOTAL"
   ]
  },
  {
   "cell_type": "code",
   "execution_count": null,
   "id": "05b26f2a",
   "metadata": {},
   "outputs": [],
   "source": [
    "#vol_adj_investment_values2022 = 1 + daily_returns2022\n",
    "vol_adjusted_pnl2022 = volatility_adjusted_portfolio2022 - TOTAL#pd.DataFrame({'Portfolio': volatility_adjusted_portfolio}) - TOTAL\n",
    "likelihood = [1/N2022 for _ in  range(N2022)]\n",
    "ranked_vol_adjusted_pnl2022 = get_ranked_pnl(likelihood, pnl=vol_adjusted_pnl2022)\n",
    "calculate_abs_var(ranked_vol_adjusted_pnl2022)"
   ]
  },
  {
   "cell_type": "code",
   "execution_count": null,
   "id": "378031b4",
   "metadata": {},
   "outputs": [],
   "source": [
    "ranked_vol_adjusted_pnl2022.round(3)"
   ]
  },
  {
   "cell_type": "code",
   "execution_count": null,
   "id": "2432847b",
   "metadata": {
    "scrolled": false
   },
   "outputs": [],
   "source": [
    "from matplotlib import pyplot as plt\n",
    "\n",
    "\n",
    "plt.rcParams[\"figure.figsize\"] = (20,10)\n",
    "\n",
    "\n",
    "plt.plot(pnl2022.index.to_numpy(), vol_adj_return2022, label='Volatility adj. daily returns')\n",
    "plt.plot(pnl2022.index.to_numpy(), daily_returns2022['CS'], label='Daily returns')\n",
    "plt.plot(pnl2022.index.to_numpy(), np.log(adj_coeff_2022) / 10, label='(Logarithm of adj. coefficient) / 10')\n",
    "\n",
    "plt.axhline(0, color='black', linewidth=1)\n",
    "\n",
    "#plt.plot([213 for _ in range(0, N2022)], np.linspace(-.2, .2, N2022))\n",
    "plt.ylabel('Daily returns', fontsize=20)\n",
    "plt.title('Daily returns vs volatility adj. returns (2022)', fontsize=20)\n",
    "plt.legend()\n",
    "plt.show()"
   ]
  },
  {
   "cell_type": "markdown",
   "id": "ee8ad393",
   "metadata": {},
   "source": [
    "# 2022 + 2023\n",
    "\n",
    "\n",
    "\n",
    "\n",
    "\n",
    "\n",
    "\n",
    "\n",
    "\n",
    "\n",
    "\n",
    "\n",
    "\n",
    "\n",
    "\n",
    "\n",
    "\n",
    "\n",
    "\n",
    "\n",
    "\n",
    "\n",
    "\n",
    "\n",
    "\n",
    "\n",
    "\n",
    "\n",
    "\n",
    "\n",
    "\n",
    "\n",
    "\n",
    "\n",
    "\n",
    "\n",
    "\n",
    "\n",
    "\n",
    "\n",
    "\n",
    "\n",
    "____v\n",
    "____\n",
    "____\n",
    "____\n",
    "____\n",
    "____\n",
    "____\n",
    "____\n",
    "____\n",
    "________________________________________"
   ]
  },
  {
   "cell_type": "code",
   "execution_count": null,
   "id": "e001be67",
   "metadata": {},
   "outputs": [],
   "source": []
  },
  {
   "cell_type": "markdown",
   "id": "4d174d16",
   "metadata": {},
   "source": [
    "## Use dates before 2022+2023"
   ]
  },
  {
   "cell_type": "code",
   "execution_count": 12,
   "id": "e05bc8ef",
   "metadata": {},
   "outputs": [],
   "source": [
    "prices2023 = upd_df[upd_df['DATE'] > '2022-03-21'].drop('DATE', axis=1)"
   ]
  },
  {
   "cell_type": "code",
   "execution_count": 13,
   "id": "bc0d2fcd",
   "metadata": {},
   "outputs": [],
   "source": [
    "prices2023.columns = ['CS']"
   ]
  },
  {
   "cell_type": "code",
   "execution_count": 14,
   "id": "4cd623b5",
   "metadata": {},
   "outputs": [
    {
     "data": {
      "text/html": [
       "<div>\n",
       "<style scoped>\n",
       "    .dataframe tbody tr th:only-of-type {\n",
       "        vertical-align: middle;\n",
       "    }\n",
       "\n",
       "    .dataframe tbody tr th {\n",
       "        vertical-align: top;\n",
       "    }\n",
       "\n",
       "    .dataframe thead th {\n",
       "        text-align: right;\n",
       "    }\n",
       "</style>\n",
       "<table border=\"1\" class=\"dataframe\">\n",
       "  <thead>\n",
       "    <tr style=\"text-align: right;\">\n",
       "      <th></th>\n",
       "      <th>CS</th>\n",
       "    </tr>\n",
       "  </thead>\n",
       "  <tbody>\n",
       "    <tr>\n",
       "      <th>56</th>\n",
       "      <td>358.97</td>\n",
       "    </tr>\n",
       "    <tr>\n",
       "      <th>57</th>\n",
       "      <td>353.76</td>\n",
       "    </tr>\n",
       "    <tr>\n",
       "      <th>58</th>\n",
       "      <td>351.34</td>\n",
       "    </tr>\n",
       "    <tr>\n",
       "      <th>59</th>\n",
       "      <td>351.53</td>\n",
       "    </tr>\n",
       "    <tr>\n",
       "      <th>60</th>\n",
       "      <td>344.08</td>\n",
       "    </tr>\n",
       "    <tr>\n",
       "      <th>...</th>\n",
       "      <td>...</td>\n",
       "    </tr>\n",
       "    <tr>\n",
       "      <th>312</th>\n",
       "      <td>84.71</td>\n",
       "    </tr>\n",
       "    <tr>\n",
       "      <th>313</th>\n",
       "      <td>100.94</td>\n",
       "    </tr>\n",
       "    <tr>\n",
       "      <th>314</th>\n",
       "      <td>92.85</td>\n",
       "    </tr>\n",
       "    <tr>\n",
       "      <th>315</th>\n",
       "      <td>41.09</td>\n",
       "    </tr>\n",
       "    <tr>\n",
       "      <th>316</th>\n",
       "      <td>44.10</td>\n",
       "    </tr>\n",
       "  </tbody>\n",
       "</table>\n",
       "<p>253 rows × 1 columns</p>\n",
       "</div>"
      ],
      "text/plain": [
       "         CS\n",
       "56   358.97\n",
       "57   353.76\n",
       "58   351.34\n",
       "59   351.53\n",
       "60   344.08\n",
       "..      ...\n",
       "312   84.71\n",
       "313  100.94\n",
       "314   92.85\n",
       "315   41.09\n",
       "316   44.10\n",
       "\n",
       "[253 rows x 1 columns]"
      ]
     },
     "execution_count": 14,
     "metadata": {},
     "output_type": "execute_result"
    }
   ],
   "source": [
    "prices2023"
   ]
  },
  {
   "cell_type": "code",
   "execution_count": 25,
   "id": "a8c41b91",
   "metadata": {},
   "outputs": [],
   "source": [
    "daily_returns2023 = prices2023.pct_change(1).tail(-1)\n",
    "N2023 = len(daily_returns2023)"
   ]
  },
  {
   "cell_type": "code",
   "execution_count": 26,
   "id": "6710b19c",
   "metadata": {},
   "outputs": [],
   "source": [
    "investment_values2023 = 1 + daily_returns2023\n",
    "investment_values2023.columns = ['Portfolio']\n"
   ]
  },
  {
   "cell_type": "code",
   "execution_count": 27,
   "id": "cadc5fad",
   "metadata": {},
   "outputs": [
    {
     "data": {
      "text/html": [
       "<div>\n",
       "<style scoped>\n",
       "    .dataframe tbody tr th:only-of-type {\n",
       "        vertical-align: middle;\n",
       "    }\n",
       "\n",
       "    .dataframe tbody tr th {\n",
       "        vertical-align: top;\n",
       "    }\n",
       "\n",
       "    .dataframe thead th {\n",
       "        text-align: right;\n",
       "    }\n",
       "</style>\n",
       "<table border=\"1\" class=\"dataframe\">\n",
       "  <thead>\n",
       "    <tr style=\"text-align: right;\">\n",
       "      <th></th>\n",
       "      <th>Portfolio</th>\n",
       "    </tr>\n",
       "  </thead>\n",
       "  <tbody>\n",
       "    <tr>\n",
       "      <th>57</th>\n",
       "      <td>0.985486</td>\n",
       "    </tr>\n",
       "    <tr>\n",
       "      <th>58</th>\n",
       "      <td>0.993159</td>\n",
       "    </tr>\n",
       "    <tr>\n",
       "      <th>59</th>\n",
       "      <td>1.000541</td>\n",
       "    </tr>\n",
       "    <tr>\n",
       "      <th>60</th>\n",
       "      <td>0.978807</td>\n",
       "    </tr>\n",
       "    <tr>\n",
       "      <th>61</th>\n",
       "      <td>1.037317</td>\n",
       "    </tr>\n",
       "    <tr>\n",
       "      <th>...</th>\n",
       "      <td>...</td>\n",
       "    </tr>\n",
       "    <tr>\n",
       "      <th>312</th>\n",
       "      <td>0.757557</td>\n",
       "    </tr>\n",
       "    <tr>\n",
       "      <th>313</th>\n",
       "      <td>1.191595</td>\n",
       "    </tr>\n",
       "    <tr>\n",
       "      <th>314</th>\n",
       "      <td>0.919853</td>\n",
       "    </tr>\n",
       "    <tr>\n",
       "      <th>315</th>\n",
       "      <td>0.442542</td>\n",
       "    </tr>\n",
       "    <tr>\n",
       "      <th>316</th>\n",
       "      <td>1.073254</td>\n",
       "    </tr>\n",
       "  </tbody>\n",
       "</table>\n",
       "<p>252 rows × 1 columns</p>\n",
       "</div>"
      ],
      "text/plain": [
       "     Portfolio\n",
       "57    0.985486\n",
       "58    0.993159\n",
       "59    1.000541\n",
       "60    0.978807\n",
       "61    1.037317\n",
       "..         ...\n",
       "312   0.757557\n",
       "313   1.191595\n",
       "314   0.919853\n",
       "315   0.442542\n",
       "316   1.073254\n",
       "\n",
       "[252 rows x 1 columns]"
      ]
     },
     "execution_count": 27,
     "metadata": {},
     "output_type": "execute_result"
    }
   ],
   "source": [
    "investment_values2023"
   ]
  },
  {
   "cell_type": "code",
   "execution_count": 28,
   "id": "d88b37ee",
   "metadata": {},
   "outputs": [],
   "source": [
    "pnl2023 = investment_values2023['Portfolio'] - TOTAL"
   ]
  },
  {
   "cell_type": "code",
   "execution_count": 30,
   "id": "42db0288",
   "metadata": {},
   "outputs": [
    {
     "data": {
      "image/png": "[encoded data removed]",
      "text/plain": [
       "<Figure size 1440x720 with 1 Axes>"
      ]
     },
     "metadata": {
      "needs_background": "light"
     },
     "output_type": "display_data"
    }
   ],
   "source": [
    "from matplotlib import pyplot as plt\n",
    "\n",
    "\n",
    "plt.rcParams[\"figure.figsize\"] = (20,10)\n",
    "\n",
    "\n",
    "plt.plot(pnl2023.index.to_numpy(), pnl2023)\n",
    "plt.plot([213 for _ in range(0, N2023)], np.linspace(-.2, .2, N2023))\n",
    "plt.ylabel('P&L', fontsize=20)\n",
    "plt.title('P&L over time', fontsize=20)\n",
    "plt.show()"
   ]
  },
  {
   "cell_type": "markdown",
   "id": "d9840a76",
   "metadata": {},
   "source": [
    "### Normal"
   ]
  },
  {
   "cell_type": "code",
   "execution_count": 32,
   "id": "db844419",
   "metadata": {},
   "outputs": [
    {
     "data": {
      "image/png": "[encoded data removed]",
      "text/plain": [
       "<Figure size 1440x720 with 1 Axes>"
      ]
     },
     "metadata": {
      "needs_background": "light"
     },
     "output_type": "display_data"
    },
    {
     "data": {
      "text/plain": [
       "0.09262456672445364"
      ]
     },
     "execution_count": 32,
     "metadata": {},
     "output_type": "execute_result"
    }
   ],
   "source": [
    "import pandas as pd\n",
    "import numpy as np\n",
    "import matplotlib.pyplot as plt\n",
    "from scipy.stats import norm\n",
    "\n",
    "# generate some sample data\n",
    "np.random.seed(123)\n",
    "\n",
    "# calculate mean and standard deviation of the data\n",
    "mu, sigma = daily_returns2023.mean()[0], daily_returns2023.std()[0]\n",
    "\n",
    "# generate normal distribution with same mean and standard deviation\n",
    "x = np.linspace(mu - 3*sigma, mu + 3*sigma, 100)\n",
    "pdf = norm.pdf(x, mu, sigma)\n",
    "\n",
    "# plot histogram of data and normal distribution\n",
    "fig, ax = plt.subplots()\n",
    "ax.hist(daily_returns2023['CS'], bins=30, density=True)\n",
    "ax.plot(x, pdf, color='red', linewidth=2)\n",
    "ax.set_xlabel('Daily Returns')\n",
    "ax.set_ylabel('Frequency')\n",
    "ax.legend(['Normal Distribution', 'Data'])\n",
    "ax.set_title('Distribution of Daily Returns for CS in 2022')\n",
    "\n",
    "plt.show()\n",
    "\n",
    "\n",
    "-TOTAL * (sigma * norm.ppf(0.05) + mu)"
   ]
  },
  {
   "cell_type": "markdown",
   "id": "e13ed131",
   "metadata": {},
   "source": [
    "### Equal weights 2023"
   ]
  },
  {
   "cell_type": "code",
   "execution_count": 33,
   "id": "2ea106cf",
   "metadata": {},
   "outputs": [
    {
     "data": {
      "text/plain": [
       "(0.18603927841464496, 0.17954572510265765)"
      ]
     },
     "execution_count": 33,
     "metadata": {},
     "output_type": "execute_result"
    }
   ],
   "source": [
    "likelihood2023 = [1/N2023 for _ in  range(N2023)]\n",
    "default_pnl2023 = get_ranked_pnl(likelihood2023, pnl2023)\n",
    "calculate_abs_var(default_pnl2023), calculate_relative_var(default_pnl2023)"
   ]
  },
  {
   "cell_type": "code",
   "execution_count": 35,
   "id": "4aad7540",
   "metadata": {},
   "outputs": [
    {
     "data": {
      "text/html": [
       "<div>\n",
       "<style scoped>\n",
       "    .dataframe tbody tr th:only-of-type {\n",
       "        vertical-align: middle;\n",
       "    }\n",
       "\n",
       "    .dataframe tbody tr th {\n",
       "        vertical-align: top;\n",
       "    }\n",
       "\n",
       "    .dataframe thead th {\n",
       "        text-align: right;\n",
       "    }\n",
       "</style>\n",
       "<table border=\"1\" class=\"dataframe\">\n",
       "  <thead>\n",
       "    <tr style=\"text-align: right;\">\n",
       "      <th></th>\n",
       "      <th>PnL</th>\n",
       "      <th>Weight</th>\n",
       "      <th>Cumulative_likelihood</th>\n",
       "    </tr>\n",
       "  </thead>\n",
       "  <tbody>\n",
       "    <tr>\n",
       "      <th>315</th>\n",
       "      <td>-0.557</td>\n",
       "      <td>0.004</td>\n",
       "      <td>0.004</td>\n",
       "    </tr>\n",
       "    <tr>\n",
       "      <th>312</th>\n",
       "      <td>-0.242</td>\n",
       "      <td>0.004</td>\n",
       "      <td>0.008</td>\n",
       "    </tr>\n",
       "    <tr>\n",
       "      <th>213</th>\n",
       "      <td>-0.186</td>\n",
       "      <td>0.004</td>\n",
       "      <td>0.012</td>\n",
       "    </tr>\n",
       "    <tr>\n",
       "      <th>288</th>\n",
       "      <td>-0.147</td>\n",
       "      <td>0.004</td>\n",
       "      <td>0.016</td>\n",
       "    </tr>\n",
       "    <tr>\n",
       "      <th>189</th>\n",
       "      <td>-0.124</td>\n",
       "      <td>0.004</td>\n",
       "      <td>0.020</td>\n",
       "    </tr>\n",
       "    <tr>\n",
       "      <th>...</th>\n",
       "      <td>...</td>\n",
       "      <td>...</td>\n",
       "      <td>...</td>\n",
       "    </tr>\n",
       "    <tr>\n",
       "      <th>316</th>\n",
       "      <td>0.073</td>\n",
       "      <td>0.004</td>\n",
       "      <td>0.984</td>\n",
       "    </tr>\n",
       "    <tr>\n",
       "      <th>304</th>\n",
       "      <td>0.083</td>\n",
       "      <td>0.004</td>\n",
       "      <td>0.988</td>\n",
       "    </tr>\n",
       "    <tr>\n",
       "      <th>196</th>\n",
       "      <td>0.089</td>\n",
       "      <td>0.004</td>\n",
       "      <td>0.992</td>\n",
       "    </tr>\n",
       "    <tr>\n",
       "      <th>239</th>\n",
       "      <td>0.093</td>\n",
       "      <td>0.004</td>\n",
       "      <td>0.996</td>\n",
       "    </tr>\n",
       "    <tr>\n",
       "      <th>313</th>\n",
       "      <td>0.192</td>\n",
       "      <td>0.004</td>\n",
       "      <td>1.000</td>\n",
       "    </tr>\n",
       "  </tbody>\n",
       "</table>\n",
       "<p>252 rows × 3 columns</p>\n",
       "</div>"
      ],
      "text/plain": [
       "       PnL  Weight  Cumulative_likelihood\n",
       "315 -0.557   0.004                  0.004\n",
       "312 -0.242   0.004                  0.008\n",
       "213 -0.186   0.004                  0.012\n",
       "288 -0.147   0.004                  0.016\n",
       "189 -0.124   0.004                  0.020\n",
       "..     ...     ...                    ...\n",
       "316  0.073   0.004                  0.984\n",
       "304  0.083   0.004                  0.988\n",
       "196  0.089   0.004                  0.992\n",
       "239  0.093   0.004                  0.996\n",
       "313  0.192   0.004                  1.000\n",
       "\n",
       "[252 rows x 3 columns]"
      ]
     },
     "execution_count": 35,
     "metadata": {},
     "output_type": "execute_result"
    }
   ],
   "source": [
    "default_pnl2023.round(3) ### extrapolation can be used"
   ]
  },
  {
   "cell_type": "markdown",
   "id": "34fac22d",
   "metadata": {},
   "source": [
    "### Exponential declining weights (2022 + 2023)"
   ]
  },
  {
   "cell_type": "code",
   "execution_count": 36,
   "id": "dd3ebead",
   "metadata": {
    "scrolled": true
   },
   "outputs": [
    {
     "data": {
      "text/html": [
       "<div>\n",
       "<style scoped>\n",
       "    .dataframe tbody tr th:only-of-type {\n",
       "        vertical-align: middle;\n",
       "    }\n",
       "\n",
       "    .dataframe tbody tr th {\n",
       "        vertical-align: top;\n",
       "    }\n",
       "\n",
       "    .dataframe thead th {\n",
       "        text-align: right;\n",
       "    }\n",
       "</style>\n",
       "<table border=\"1\" class=\"dataframe\">\n",
       "  <thead>\n",
       "    <tr style=\"text-align: right;\">\n",
       "      <th></th>\n",
       "      <th>PnL</th>\n",
       "      <th>Weight</th>\n",
       "      <th>Cumulative_likelihood</th>\n",
       "    </tr>\n",
       "  </thead>\n",
       "  <tbody>\n",
       "    <tr>\n",
       "      <th>315</th>\n",
       "      <td>-0.557</td>\n",
       "      <td>0.048</td>\n",
       "      <td>0.048</td>\n",
       "    </tr>\n",
       "    <tr>\n",
       "      <th>312</th>\n",
       "      <td>-0.242</td>\n",
       "      <td>0.041</td>\n",
       "      <td>0.088</td>\n",
       "    </tr>\n",
       "    <tr>\n",
       "      <th>213</th>\n",
       "      <td>-0.186</td>\n",
       "      <td>0.000</td>\n",
       "      <td>0.089</td>\n",
       "    </tr>\n",
       "    <tr>\n",
       "      <th>288</th>\n",
       "      <td>-0.147</td>\n",
       "      <td>0.012</td>\n",
       "      <td>0.100</td>\n",
       "    </tr>\n",
       "    <tr>\n",
       "      <th>189</th>\n",
       "      <td>-0.124</td>\n",
       "      <td>0.000</td>\n",
       "      <td>0.100</td>\n",
       "    </tr>\n",
       "    <tr>\n",
       "      <th>310</th>\n",
       "      <td>-0.096</td>\n",
       "      <td>0.037</td>\n",
       "      <td>0.137</td>\n",
       "    </tr>\n",
       "    <tr>\n",
       "      <th>314</th>\n",
       "      <td>-0.080</td>\n",
       "      <td>0.045</td>\n",
       "      <td>0.182</td>\n",
       "    </tr>\n",
       "    <tr>\n",
       "      <th>303</th>\n",
       "      <td>-0.070</td>\n",
       "      <td>0.026</td>\n",
       "      <td>0.208</td>\n",
       "    </tr>\n",
       "    <tr>\n",
       "      <th>234</th>\n",
       "      <td>-0.066</td>\n",
       "      <td>0.001</td>\n",
       "      <td>0.209</td>\n",
       "    </tr>\n",
       "    <tr>\n",
       "      <th>273</th>\n",
       "      <td>-0.065</td>\n",
       "      <td>0.006</td>\n",
       "      <td>0.214</td>\n",
       "    </tr>\n",
       "  </tbody>\n",
       "</table>\n",
       "</div>"
      ],
      "text/plain": [
       "       PnL  Weight  Cumulative_likelihood\n",
       "315 -0.557   0.048                  0.048\n",
       "312 -0.242   0.041                  0.088\n",
       "213 -0.186   0.000                  0.089\n",
       "288 -0.147   0.012                  0.100\n",
       "189 -0.124   0.000                  0.100\n",
       "310 -0.096   0.037                  0.137\n",
       "314 -0.080   0.045                  0.182\n",
       "303 -0.070   0.026                  0.208\n",
       "234 -0.066   0.001                  0.209\n",
       "273 -0.065   0.006                  0.214"
      ]
     },
     "execution_count": 36,
     "metadata": {},
     "output_type": "execute_result"
    }
   ],
   "source": [
    "def get_exponential_weight(alpha, i, n):\n",
    "    return alpha**(n - i) * (1 - alpha) / (1 - alpha**n)\n",
    "\n",
    "def get_exponential_weights(alpha, n):\n",
    "    return np.array(\n",
    "        [get_exponential_weight(alpha, i, n) for i in range(1, n+1)]\n",
    "    )\n",
    "\n",
    "alpha = .95\n",
    "likelihood = get_exponential_weights(alpha, N2023)\n",
    "exp_ranked_pnl2023 = get_ranked_pnl(likelihood, pnl2023)\n",
    "\n",
    "exp_ranked_pnl2023.head(10).round(3)"
   ]
  },
  {
   "cell_type": "markdown",
   "id": "b3b751e3",
   "metadata": {},
   "source": [
    "### Volatility adjusted returns"
   ]
  },
  {
   "cell_type": "code",
   "execution_count": 40,
   "id": "4e4d618f",
   "metadata": {},
   "outputs": [],
   "source": [
    "alpha = .95\n",
    "\n",
    "initial_variance = 0.00064\n"
   ]
  },
  {
   "cell_type": "code",
   "execution_count": 41,
   "id": "6de76aa2",
   "metadata": {},
   "outputs": [],
   "source": [
    "volatility_forecast2023 = forecast_volatility(daily_returns2023['CS'], initial_variance, N2023, alpha)\n",
    "latest_volatility_forecast2023 = volatility_forecast2023[-1]"
   ]
  },
  {
   "cell_type": "code",
   "execution_count": 44,
   "id": "5cdcf14c",
   "metadata": {},
   "outputs": [],
   "source": [
    "adj_coeff_2023 = latest_volatility_forecast2023 / volatility_forecast2023[:N2022]\n",
    "vol_adj_return2023 = daily_returns2023['CS'].to_numpy() * adj_coeff_2023\n",
    "volatility_adjusted_portfolio2023 = TOTAL * (1 + vol_adj_return2023)\n",
    "#vol_adjusted_pnl = vol_adjusted_portfolio - TOTAL"
   ]
  },
  {
   "cell_type": "code",
   "execution_count": 45,
   "id": "6f21928d",
   "metadata": {},
   "outputs": [
    {
     "data": {
      "text/plain": [
       "0.8055769922364285"
      ]
     },
     "execution_count": 45,
     "metadata": {},
     "output_type": "execute_result"
    }
   ],
   "source": [
    "#vol_adj_investmentvalues2022 = 1 + daily_returns2022\n",
    "vol_adjusted_pnl2023 = volatility_adjusted_portfolio2023 - TOTAL#pd.DataFrame({'Portfolio': volatility_adjusted_portfolio}) - TOTAL\n",
    "likelihood = [1/N2023 for _ in  range(N2023)]\n",
    "ranked_vol_adjusted_pnl2023 = get_ranked_pnl(likelihood, pnl=vol_adjusted_pnl2023)\n",
    "calculate_abs_var(ranked_vol_adjusted_pnl2023)"
   ]
  },
  {
   "cell_type": "code",
   "execution_count": 46,
   "id": "694a0cc3",
   "metadata": {},
   "outputs": [
    {
     "data": {
      "text/html": [
       "<div>\n",
       "<style scoped>\n",
       "    .dataframe tbody tr th:only-of-type {\n",
       "        vertical-align: middle;\n",
       "    }\n",
       "\n",
       "    .dataframe tbody tr th {\n",
       "        vertical-align: top;\n",
       "    }\n",
       "\n",
       "    .dataframe thead th {\n",
       "        text-align: right;\n",
       "    }\n",
       "</style>\n",
       "<table border=\"1\" class=\"dataframe\">\n",
       "  <thead>\n",
       "    <tr style=\"text-align: right;\">\n",
       "      <th></th>\n",
       "      <th>PnL</th>\n",
       "      <th>Weight</th>\n",
       "      <th>Cumulative_likelihood</th>\n",
       "    </tr>\n",
       "  </thead>\n",
       "  <tbody>\n",
       "    <tr>\n",
       "      <th>250</th>\n",
       "      <td>-1.016</td>\n",
       "      <td>0.004</td>\n",
       "      <td>0.004</td>\n",
       "    </tr>\n",
       "    <tr>\n",
       "      <th>247</th>\n",
       "      <td>-0.835</td>\n",
       "      <td>0.004</td>\n",
       "      <td>0.008</td>\n",
       "    </tr>\n",
       "    <tr>\n",
       "      <th>151</th>\n",
       "      <td>-0.806</td>\n",
       "      <td>0.004</td>\n",
       "      <td>0.012</td>\n",
       "    </tr>\n",
       "    <tr>\n",
       "      <th>223</th>\n",
       "      <td>-0.763</td>\n",
       "      <td>0.004</td>\n",
       "      <td>0.016</td>\n",
       "    </tr>\n",
       "    <tr>\n",
       "      <th>127</th>\n",
       "      <td>-0.681</td>\n",
       "      <td>0.004</td>\n",
       "      <td>0.020</td>\n",
       "    </tr>\n",
       "    <tr>\n",
       "      <th>...</th>\n",
       "      <td>...</td>\n",
       "      <td>...</td>\n",
       "      <td>...</td>\n",
       "    </tr>\n",
       "    <tr>\n",
       "      <th>177</th>\n",
       "      <td>0.332</td>\n",
       "      <td>0.004</td>\n",
       "      <td>0.984</td>\n",
       "    </tr>\n",
       "    <tr>\n",
       "      <th>112</th>\n",
       "      <td>0.363</td>\n",
       "      <td>0.004</td>\n",
       "      <td>0.988</td>\n",
       "    </tr>\n",
       "    <tr>\n",
       "      <th>134</th>\n",
       "      <td>0.364</td>\n",
       "      <td>0.004</td>\n",
       "      <td>0.992</td>\n",
       "    </tr>\n",
       "    <tr>\n",
       "      <th>25</th>\n",
       "      <td>0.384</td>\n",
       "      <td>0.004</td>\n",
       "      <td>0.996</td>\n",
       "    </tr>\n",
       "    <tr>\n",
       "      <th>248</th>\n",
       "      <td>0.406</td>\n",
       "      <td>0.004</td>\n",
       "      <td>1.000</td>\n",
       "    </tr>\n",
       "  </tbody>\n",
       "</table>\n",
       "<p>252 rows × 3 columns</p>\n",
       "</div>"
      ],
      "text/plain": [
       "       PnL  Weight  Cumulative_likelihood\n",
       "250 -1.016   0.004                  0.004\n",
       "247 -0.835   0.004                  0.008\n",
       "151 -0.806   0.004                  0.012\n",
       "223 -0.763   0.004                  0.016\n",
       "127 -0.681   0.004                  0.020\n",
       "..     ...     ...                    ...\n",
       "177  0.332   0.004                  0.984\n",
       "112  0.363   0.004                  0.988\n",
       "134  0.364   0.004                  0.992\n",
       "25   0.384   0.004                  0.996\n",
       "248  0.406   0.004                  1.000\n",
       "\n",
       "[252 rows x 3 columns]"
      ]
     },
     "execution_count": 46,
     "metadata": {},
     "output_type": "execute_result"
    }
   ],
   "source": [
    "ranked_vol_adjusted_pnl2023.round(3)"
   ]
  },
  {
   "cell_type": "code",
   "execution_count": 48,
   "id": "ff848673",
   "metadata": {
    "scrolled": false
   },
   "outputs": [
    {
     "data": {
      "image/png": "[encoded data removed]",
      "text/plain": [
       "<Figure size 1440x720 with 1 Axes>"
      ]
     },
     "metadata": {
      "needs_background": "light"
     },
     "output_type": "display_data"
    }
   ],
   "source": [
    "from matplotlib import pyplot as plt\n",
    "\n",
    "\n",
    "plt.rcParams[\"figure.figsize\"] = (20,10)\n",
    "\n",
    "\n",
    "plt.plot(pnl2023.index.to_numpy(), vol_adj_return2023, label='Volatility adj. daily returns')\n",
    "plt.plot(pnl2023.index.to_numpy(), daily_returns2023['CS'], label='Daily returns')\n",
    "plt.plot(pnl2023.index.to_numpy(), np.log(adj_coeff_2023) / 10, label='(Logarithm of adj. coefficient) / 10')\n",
    "\n",
    "plt.axhline(0, color='black', linewidth=1)\n",
    "\n",
    "#plt.plot([213 for _ in range(0, N2022)], np.linspace(-.2, .2, N2022))\n",
    "plt.ylabel('Daily returns', fontsize=20)\n",
    "plt.title('Daily returns vs volatility adj. returns (2022)', fontsize=20)\n",
    "plt.legend()\n",
    "plt.show()"
   ]
  },
  {
   "cell_type": "code",
   "execution_count": null,
   "id": "5e4f2bc6",
   "metadata": {},
   "outputs": [],
   "source": []
  },
  {
   "cell_type": "code",
   "execution_count": null,
   "id": "99a82493",
   "metadata": {},
   "outputs": [],
   "source": []
  },
  {
   "cell_type": "code",
   "execution_count": null,
   "id": "7222167c",
   "metadata": {},
   "outputs": [],
   "source": []
  },
  {
   "cell_type": "code",
   "execution_count": null,
   "id": "99044d08",
   "metadata": {},
   "outputs": [],
   "source": []
  },
  {
   "cell_type": "code",
   "execution_count": null,
   "id": "916278e6",
   "metadata": {},
   "outputs": [],
   "source": []
  }
 ],
 "metadata": {
  "kernelspec": {
   "display_name": "Python 3 (ipykernel)",
   "language": "python",
   "name": "python3"
  },
  "language_info": {
   "codemirror_mode": {
    "name": "ipython",
    "version": 3
   },
   "file_extension": ".py",
   "mimetype": "text/x-python",
   "name": "python",
   "nbconvert_exporter": "python",
   "pygments_lexer": "ipython3",
   "version": "3.10.4"
  }
 },
 "nbformat": 4,
 "nbformat_minor": 5
}
