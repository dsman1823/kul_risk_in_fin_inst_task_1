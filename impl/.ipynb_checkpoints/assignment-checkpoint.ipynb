{
 "cells": [
  {
   "cell_type": "code",
   "execution_count": 8,
   "id": "28bbc0bf",
   "metadata": {},
   "outputs": [],
   "source": [
    "import pandas_market_calendars as mcal\n",
    "import pandas as pd"
   ]
  },
  {
   "cell_type": "code",
   "execution_count": 9,
   "id": "5390e552",
   "metadata": {},
   "outputs": [],
   "source": [
    "six = mcal.get_calendar('SIX')\n"
   ]
  },
  {
   "cell_type": "code",
   "execution_count": 51,
   "id": "99dd18c0",
   "metadata": {},
   "outputs": [
    {
     "data": {
      "text/plain": [
       "'2022-01-03'"
      ]
     },
     "execution_count": 51,
     "metadata": {},
     "output_type": "execute_result"
    }
   ],
   "source": [
    "df = pd.read_excel('data.xlsx')\n",
    "\n",
    "str(df['DATE'].min().date())"
   ]
  },
  {
   "cell_type": "code",
   "execution_count": 52,
   "id": "b0e22cf5",
   "metadata": {},
   "outputs": [],
   "source": [
    "start = df['DATE'].min().date()\n",
    "end = df['DATE'].max().date()\n",
    "schedule = six.schedule(start_date=start, end_date=end)\n"
   ]
  },
  {
   "cell_type": "code",
   "execution_count": 66,
   "id": "73dadb9a",
   "metadata": {},
   "outputs": [
    {
     "data": {
      "text/html": [
       "<div>\n",
       "<style scoped>\n",
       "    .dataframe tbody tr th:only-of-type {\n",
       "        vertical-align: middle;\n",
       "    }\n",
       "\n",
       "    .dataframe tbody tr th {\n",
       "        vertical-align: top;\n",
       "    }\n",
       "\n",
       "    .dataframe thead th {\n",
       "        text-align: right;\n",
       "    }\n",
       "</style>\n",
       "<table border=\"1\" class=\"dataframe\">\n",
       "  <thead>\n",
       "    <tr style=\"text-align: right;\">\n",
       "      <th></th>\n",
       "      <th>DATE</th>\n",
       "      <th>CREDIT SUISSE GROUP - TOT RETURN IND</th>\n",
       "    </tr>\n",
       "  </thead>\n",
       "  <tbody>\n",
       "    <tr>\n",
       "      <th>74</th>\n",
       "      <td>2022-04-15</td>\n",
       "      <td>333.85</td>\n",
       "    </tr>\n",
       "    <tr>\n",
       "      <th>75</th>\n",
       "      <td>2022-04-18</td>\n",
       "      <td>333.85</td>\n",
       "    </tr>\n",
       "    <tr>\n",
       "      <th>103</th>\n",
       "      <td>2022-05-26</td>\n",
       "      <td>318.95</td>\n",
       "    </tr>\n",
       "    <tr>\n",
       "      <th>110</th>\n",
       "      <td>2022-06-06</td>\n",
       "      <td>311.77</td>\n",
       "    </tr>\n",
       "    <tr>\n",
       "      <th>150</th>\n",
       "      <td>2022-08-01</td>\n",
       "      <td>261.77</td>\n",
       "    </tr>\n",
       "    <tr>\n",
       "      <th>255</th>\n",
       "      <td>2022-12-26</td>\n",
       "      <td>142.07</td>\n",
       "    </tr>\n",
       "    <tr>\n",
       "      <th>259</th>\n",
       "      <td>2022-12-30</td>\n",
       "      <td>137.98</td>\n",
       "    </tr>\n",
       "    <tr>\n",
       "      <th>260</th>\n",
       "      <td>2023-01-02</td>\n",
       "      <td>137.98</td>\n",
       "    </tr>\n",
       "  </tbody>\n",
       "</table>\n",
       "</div>"
      ],
      "text/plain": [
       "          DATE  CREDIT SUISSE GROUP - TOT RETURN IND\n",
       "74  2022-04-15                                333.85\n",
       "75  2022-04-18                                333.85\n",
       "103 2022-05-26                                318.95\n",
       "110 2022-06-06                                311.77\n",
       "150 2022-08-01                                261.77\n",
       "255 2022-12-26                                142.07\n",
       "259 2022-12-30                                137.98\n",
       "260 2023-01-02                                137.98"
      ]
     },
     "execution_count": 66,
     "metadata": {},
     "output_type": "execute_result"
    }
   ],
   "source": [
    "df[~df['DATE'].isin(schedule.index)]"
   ]
  },
  {
   "cell_type": "code",
   "execution_count": 60,
   "id": "be18f6e5",
   "metadata": {
    "scrolled": true
   },
   "outputs": [],
   "source": [
    "upd_df = df[df['DATE'].isin(schedule.index)]"
   ]
  },
  {
   "cell_type": "code",
   "execution_count": 61,
   "id": "b88d329b",
   "metadata": {},
   "outputs": [],
   "source": [
    "def print_days_without_price_change(df):\n",
    "    prev_row = None\n",
    "    j = 0\n",
    "\n",
    "    for i, row in df.iterrows():\n",
    "        if j !=  0:\n",
    "            if row['CREDIT SUISSE GROUP - TOT RETURN IND'] == prev_row['CREDIT SUISSE GROUP - TOT RETURN IND']:\n",
    "                print(row['DATE'])\n",
    "\n",
    "        j = 1\n",
    "        prev_row = row"
   ]
  },
  {
   "cell_type": "code",
   "execution_count": 64,
   "id": "af88831d",
   "metadata": {},
   "outputs": [],
   "source": [
    "print_days_without_price_change(upd_df)"
   ]
  },
  {
   "cell_type": "code",
   "execution_count": 65,
   "id": "0247206a",
   "metadata": {},
   "outputs": [
    {
     "data": {
      "text/html": [
       "<div>\n",
       "<style scoped>\n",
       "    .dataframe tbody tr th:only-of-type {\n",
       "        vertical-align: middle;\n",
       "    }\n",
       "\n",
       "    .dataframe tbody tr th {\n",
       "        vertical-align: top;\n",
       "    }\n",
       "\n",
       "    .dataframe thead th {\n",
       "        text-align: right;\n",
       "    }\n",
       "</style>\n",
       "<table border=\"1\" class=\"dataframe\">\n",
       "  <thead>\n",
       "    <tr style=\"text-align: right;\">\n",
       "      <th></th>\n",
       "      <th>DATE</th>\n",
       "      <th>CREDIT SUISSE GROUP - TOT RETURN IND</th>\n",
       "    </tr>\n",
       "  </thead>\n",
       "  <tbody>\n",
       "    <tr>\n",
       "      <th>0</th>\n",
       "      <td>2022-01-03</td>\n",
       "      <td>422.59</td>\n",
       "    </tr>\n",
       "    <tr>\n",
       "      <th>1</th>\n",
       "      <td>2022-01-04</td>\n",
       "      <td>427.71</td>\n",
       "    </tr>\n",
       "    <tr>\n",
       "      <th>2</th>\n",
       "      <td>2022-01-05</td>\n",
       "      <td>430.04</td>\n",
       "    </tr>\n",
       "    <tr>\n",
       "      <th>3</th>\n",
       "      <td>2022-01-06</td>\n",
       "      <td>431.43</td>\n",
       "    </tr>\n",
       "    <tr>\n",
       "      <th>4</th>\n",
       "      <td>2022-01-07</td>\n",
       "      <td>431.80</td>\n",
       "    </tr>\n",
       "    <tr>\n",
       "      <th>...</th>\n",
       "      <td>...</td>\n",
       "      <td>...</td>\n",
       "    </tr>\n",
       "    <tr>\n",
       "      <th>312</th>\n",
       "      <td>2023-03-15</td>\n",
       "      <td>84.71</td>\n",
       "    </tr>\n",
       "    <tr>\n",
       "      <th>313</th>\n",
       "      <td>2023-03-16</td>\n",
       "      <td>100.94</td>\n",
       "    </tr>\n",
       "    <tr>\n",
       "      <th>314</th>\n",
       "      <td>2023-03-17</td>\n",
       "      <td>92.85</td>\n",
       "    </tr>\n",
       "    <tr>\n",
       "      <th>315</th>\n",
       "      <td>2023-03-20</td>\n",
       "      <td>41.09</td>\n",
       "    </tr>\n",
       "    <tr>\n",
       "      <th>316</th>\n",
       "      <td>2023-03-21</td>\n",
       "      <td>44.10</td>\n",
       "    </tr>\n",
       "  </tbody>\n",
       "</table>\n",
       "<p>309 rows × 2 columns</p>\n",
       "</div>"
      ],
      "text/plain": [
       "          DATE  CREDIT SUISSE GROUP - TOT RETURN IND\n",
       "0   2022-01-03                                422.59\n",
       "1   2022-01-04                                427.71\n",
       "2   2022-01-05                                430.04\n",
       "3   2022-01-06                                431.43\n",
       "4   2022-01-07                                431.80\n",
       "..         ...                                   ...\n",
       "312 2023-03-15                                 84.71\n",
       "313 2023-03-16                                100.94\n",
       "314 2023-03-17                                 92.85\n",
       "315 2023-03-20                                 41.09\n",
       "316 2023-03-21                                 44.10\n",
       "\n",
       "[309 rows x 2 columns]"
      ]
     },
     "execution_count": 65,
     "metadata": {},
     "output_type": "execute_result"
    }
   ],
   "source": [
    "upd_df"
   ]
  },
  {
   "cell_type": "code",
   "execution_count": null,
   "id": "66c82e00",
   "metadata": {},
   "outputs": [],
   "source": []
  }
 ],
 "metadata": {
  "kernelspec": {
   "display_name": "Python 3 (ipykernel)",
   "language": "python",
   "name": "python3"
  },
  "language_info": {
   "codemirror_mode": {
    "name": "ipython",
    "version": 3
   },
   "file_extension": ".py",
   "mimetype": "text/x-python",
   "name": "python",
   "nbconvert_exporter": "python",
   "pygments_lexer": "ipython3",
   "version": "3.10.4"
  }
 },
 "nbformat": 4,
 "nbformat_minor": 5
}
